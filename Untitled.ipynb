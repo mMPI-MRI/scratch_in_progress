{
 "cells": [
  {
   "cell_type": "code",
   "execution_count": 1,
   "metadata": {
    "collapsed": true
   },
   "outputs": [],
   "source": [
    "import os\n",
    "import numpy as np\n",
    "import nibabel as nb\n"
   ]
  },
  {
   "cell_type": "code",
   "execution_count": 7,
   "metadata": {
    "collapsed": true
   },
   "outputs": [],
   "source": [
    "img=nb.load('BP4T_rest1_1_denoised_z35.nii.gz')\n",
    "#img=nb.load('BP4T_rest1_1_denoised.nii.gz')\n",
    "#img=nb.load('BP4T_rest1_1_denoised_z20_49.nii.gz')"
   ]
  },
  {
   "cell_type": "code",
   "execution_count": 8,
   "metadata": {
    "collapsed": true
   },
   "outputs": [],
   "source": [
    "## from: https://gist.github.com/fabianp/9396204419c7b638d38f\n",
    "\n",
    "\"\"\"\n",
    "Partial Correlation in Python (clone of Matlab's partialcorr)\n",
    "This uses the linear regression approach to compute the partial \n",
    "correlation (might be slow for a huge number of variables). The \n",
    "algorithm is detailed here:\n",
    "    http://en.wikipedia.org/wiki/Partial_correlation#Using_linear_regression\n",
    "Taking X and Y two variables of interest and Z the matrix with all the variable minus {X, Y},\n",
    "the algorithm can be summarized as\n",
    "    1) perform a normal linear least-squares regression with X as the target and Z as the predictor\n",
    "    2) calculate the residuals in Step #1\n",
    "    3) perform a normal linear least-squares regression with Y as the target and Z as the predictor\n",
    "    4) calculate the residuals in Step #3\n",
    "    5) calculate the correlation coefficient between the residuals from Steps #2 and #4; \n",
    "    The result is the partial correlation between X and Y while controlling for the effect of Z\n",
    "Date: Nov 2014\n",
    "Author: Fabian Pedregosa-Izquierdo, f@bianp.net\n",
    "Testing: Valentina Borghesani, valentinaborghesani@gmail.com\n",
    "\"\"\"\n",
    "\n",
    "import numpy as np\n",
    "from scipy import stats, linalg\n",
    "\n",
    "def partial_corr(C):\n",
    "    \"\"\"\n",
    "    Returns the sample linear partial correlation coefficients between pairs of variables in C, controlling \n",
    "    for the remaining variables in C.\n",
    "    Parameters\n",
    "    ----------\n",
    "    C : array-like, shape (n, p)\n",
    "        Array with the different variables. Each column of C is taken as a variable\n",
    "    Returns\n",
    "    -------\n",
    "    P : array-like, shape (p, p)\n",
    "        P[i, j] contains the partial correlation of C[:, i] and C[:, j] controlling\n",
    "        for the remaining variables in C.\n",
    "    \"\"\"\n",
    "    \n",
    "    C = np.asarray(C)\n",
    "    p = C.shape[1]\n",
    "    P_corr = np.zeros((p, p), dtype=np.float)\n",
    "    for i in range(p):\n",
    "        P_corr[i, i] = 1\n",
    "        for j in range(i+1, p):\n",
    "            idx = np.ones(p, dtype=np.bool)\n",
    "            idx[i] = False\n",
    "            idx[j] = False\n",
    "            beta_i = linalg.lstsq(C[:, idx], C[:, j])[0]\n",
    "            beta_j = linalg.lstsq(C[:, idx], C[:, i])[0]\n",
    "\n",
    "            res_j = C[:, j] - C[:, idx].dot( beta_i)\n",
    "            res_i = C[:, i] - C[:, idx].dot(beta_j)\n",
    "            \n",
    "            corr = stats.pearsonr(res_i, res_j)[0]\n",
    "            P_corr[i, j] = corr\n",
    "            P_corr[j, i] = corr\n",
    "        \n",
    "    return P_corr"
   ]
  },
  {
   "cell_type": "code",
   "execution_count": 9,
   "metadata": {
    "collapsed": false
   },
   "outputs": [],
   "source": [
    "d=img.get_data() #this takes a while on a full image\n",
    "a=img.affine\n",
    "mask=d[:,:,:,0]\n",
    "mask[np.logical_not(mask==0)]=1"
   ]
  },
  {
   "cell_type": "code",
   "execution_count": 10,
   "metadata": {
    "collapsed": false
   },
   "outputs": [
    {
     "data": {
      "text/plain": [
       "7322.0"
      ]
     },
     "execution_count": 10,
     "metadata": {},
     "output_type": "execute_result"
    }
   ],
   "source": [
    "np.sum(mask)"
   ]
  },
  {
   "cell_type": "code",
   "execution_count": 11,
   "metadata": {
    "collapsed": false
   },
   "outputs": [
    {
     "name": "stdout",
     "output_type": "stream",
     "text": [
      "128 128 1\n",
      "\n"
     ]
    }
   ],
   "source": [
    "xdim=np.shape(d)[0]\n",
    "ydim=np.shape(d)[1]\n",
    "zdim=np.shape(d)[2] #not used here, since I only loaded a single slice to check this\n",
    "print xdim,ydim,zdim\n",
    "print \"\""
   ]
  },
  {
   "cell_type": "code",
   "execution_count": null,
   "metadata": {
    "collapsed": true
   },
   "outputs": [],
   "source": [
    "nbours=6\n",
    "res = np.zeros_like(np.shape(d)[0:3]+(nbours,)) #x,y,z and the neighbourhoods\n",
    "\n",
    "# TODO: get rid of enumerate\n",
    "print(\"x slice:\")\n",
    "for idxx,x in enumerate(range(0+1,xdim-1)):\n",
    "    print x\n",
    "    for idxy,y in enumerate(range(0+1,ydim-1)):\n",
    "        for idxz,z in enumerate(range(0+1,zdim-1)):\n",
    "        #    if x<0 or y<0 or z<0 or x>xdim-1 or y>ydim-1 or z>zdim-1:\n",
    "        #        pass\n",
    "        #    else:\n",
    "            if not(mask[x,y,z]==0):\n",
    "                #print x,y,z\n",
    "                #for now, 2 directions of correlations\n",
    "                corrmat=np.hstack((np.ndarray.flatten(d[x-1,y,z]).reshape(1,-1).T,\n",
    "                                   np.ndarray.flatten(d[x,y,z]).reshape(1,-1).T,\n",
    "                                   np.ndarray.flatten(d[x+1,y,z]).reshape(1,-1).T))\n",
    "                res_corr=partial_corr(corrmat)\n",
    "                res[x,y,z,0]=res_corr[1,0] #pcorr btw the first two\n",
    "                res[x,y,z,1]=res_corr[1,2] #pcorr btw the last two\n",
    "\n",
    "                corrmat=np.hstack((np.ndarray.flatten(d[x,y-1,z]).reshape(1,-1).T,\n",
    "                                   np.ndarray.flatten(d[x,y,z]).reshape(1,-1).T,\n",
    "                                   np.ndarray.flatten(d[x,y+1,z]).reshape(1,-1).T))\n",
    "                res_corr=partial_corr(corrmat)\n",
    "                res[x,y,z,2]=res_corr[1,0] #pcorr btw the first two\n",
    "                res[x,y,z,3]=res_corr[1,2] #pcorr btw the last two    \n",
    "\n",
    "                corrmat=np.hstack((np.ndarray.flatten(d[x,y,z-1]).reshape(1,-1).T,\n",
    "                                   np.ndarray.flatten(d[x,y,z]).reshape(1,-1).T,\n",
    "                                   np.ndarray.flatten(d[x,y,z+1]).reshape(1,-1).T))\n",
    "                res_corr=partial_corr(corrmat)\n",
    "                res[x,y,z,4]=res_corr[1,0] #pcorr btw the first two\n",
    "                res[x,y,z,5]=res_corr[1,2] #pcorr btw the last two \n",
    "print \"\""
   ]
  },
  {
   "cell_type": "code",
   "execution_count": null,
   "metadata": {
    "collapsed": true
   },
   "outputs": [],
   "source": [
    "res[np.isnan(res)]=0\n",
    "out_img=nb.Nifti1Image(res,a,header=img.get_header())\n",
    "nb.save(out_img,'001.nii.gz')"
   ]
  },
  {
   "cell_type": "code",
   "execution_count": 15,
   "metadata": {
    "collapsed": false
   },
   "outputs": [
    {
     "name": "stdout",
     "output_type": "stream",
     "text": [
      "x slice: 1 2 3 4 5 6 7 8 9 10 11 12 13 14 15 16 17 18 19 20 21 22 23 24 25 26 27 28 29 30 31 32 33 34 35 36 37 38 39 40 41 42 43 44 45 46 47 48 49 50 51 52 53 54 55 56 57 58 59 60 61 62 63 64 65 66 67 68 69 70 71 72 73 74 75 76 77 78 79 80 81 82 83 84 85 86 87 88 89 90 91 92 93 94 95 96 97 98 99 100 101 102 103 104 105 106 107 108 109 110 111 112 113 114 115 116 117 118 119 120 121 122 123 124 125 126 \n"
     ]
    }
   ],
   "source": [
    "l2r=np.zeros(np.shape(d)[0:3])\n",
    "r2l=np.zeros(np.shape(d)[0:3])\n",
    "f2b=np.zeros(np.shape(d)[0:3])\n",
    "b2f=np.zeros(np.shape(d)[0:3])\n",
    "u2d=np.zeros(np.shape(d)[0:3])\n",
    "d2u=np.zeros(np.shape(d)[0:3])\n",
    "\n",
    "# TODO: get rid of enumerate\n",
    "print(\"x slice:\")\n",
    "for idxx,x in enumerate(range(0+1,xdim-1)):\n",
    "    print x\n",
    "    for idxy,y in enumerate(range(0+1,ydim-1)):\n",
    "        for idxz,z in enumerate(range(0+1,zdim-1)):\n",
    "        #    if x<0 or y<0 or z<0 or x>xdim-1 or y>ydim-1 or z>zdim-1:\n",
    "        #        pass\n",
    "        #    else:\n",
    "            if not(mask[x,y,z]==0):\n",
    "                #print x,y,z\n",
    "                #for now, 2 directions of correlations\n",
    "                corrmat=np.hstack((np.ndarray.flatten(d[x-1,y,z]).reshape(1,-1).T,\n",
    "                                   np.ndarray.flatten(d[x,y,z]).reshape(1,-1).T,\n",
    "                                   np.ndarray.flatten(d[x+1,y,z]).reshape(1,-1).T))\n",
    "                res_corr=partial_corr(corrmat)\n",
    "                l2r[x,y,z]=res_corr[0,1] #pcorr btw the first two\n",
    "                r2l[x,y,z]=res_corr[1,2] #pcorr btw the last two\n",
    "\n",
    "                corrmat=np.hstack((np.ndarray.flatten(d[x,y-1,z]).reshape(1,-1).T,\n",
    "                                   np.ndarray.flatten(d[x,y,z]).reshape(1,-1).T,\n",
    "                                   np.ndarray.flatten(d[x,y+1,z]).reshape(1,-1).T))\n",
    "                res_corr=partial_corr(corrmat)\n",
    "                f2b[x,y,z]=res_corr[0,1] #pcorr btw the first two\n",
    "                b2f[x,y,z]=res_corr[1,2] #pcorr btw the last two    \n",
    "\n",
    "                corrmat=np.hstack((np.ndarray.flatten(d[x,y,z-1]).reshape(1,-1).T,\n",
    "                                   np.ndarray.flatten(d[x,y,z]).reshape(1,-1).T,\n",
    "                                   np.ndarray.flatten(d[x,y,z+1]).reshape(1,-1).T))\n",
    "                res_corr=partial_corr(corrmat)\n",
    "                u2d[x,y,z]=res_corr[0,1] #pcorr btw the first two\n",
    "                d2u[x,y,z]=res_corr[1,2] #pcorr btw the last two \n",
    "print \"\""
   ]
  },
  {
   "cell_type": "code",
   "execution_count": null,
   "metadata": {
    "collapsed": false
   },
   "outputs": [],
   "source": [
    "r2l[np.isnan(r2l)]=0\n",
    "l2r[np.isnan(l2r)]=0\n",
    "u2d[np.isnan(u2d)]=0\n",
    "d2u[np.isnan(d2u)]=0\n",
    "f2b[np.isnan(u2d)]=0\n",
    "b2f[np.isnan(d2u)]=0\n"
   ]
  },
  {
   "cell_type": "code",
   "execution_count": 8,
   "metadata": {
    "collapsed": false
   },
   "outputs": [
    {
     "data": {
      "text/plain": [
       "(128, 128)"
      ]
     },
     "execution_count": 8,
     "metadata": {},
     "output_type": "execute_result"
    }
   ],
   "source": [
    "np.shape(np.zeros(np.shape(d)[0:2]))"
   ]
  },
  {
   "cell_type": "code",
   "execution_count": 11,
   "metadata": {
    "collapsed": false
   },
   "outputs": [
    {
     "data": {
      "text/plain": [
       "0.0"
      ]
     },
     "execution_count": 11,
     "metadata": {},
     "output_type": "execute_result"
    }
   ],
   "source": [
    "np.sum(np.abs(r2l))"
   ]
  },
  {
   "cell_type": "code",
   "execution_count": null,
   "metadata": {
    "collapsed": false
   },
   "outputs": [],
   "source": [
    "out_img=nb.Nifti1Image(r2l,a,header=img.get_header())\n",
    "nb.save(out_img,'001.nii.gz')\n",
    "out_img=nb.Nifti1Image(l2r,a,header=img.get_header())\n",
    "nb.save(out_img,'002.nii.gz')\n",
    "out_img=nb.Nifti1Image(f2b,a,header=img.get_header())\n",
    "nb.save(out_img,'101.nii.gz')\n",
    "out_img=nb.Nifti1Image(b2f,a,header=img.get_header())\n",
    "nb.save(out_img,'102.nii.gz')\n",
    "out_img=nb.Nifti1Image(u2d,a,header=img.get_header())\n",
    "nb.save(out_img,'201.nii.gz')\n",
    "out_img=nb.Nifti1Image(d2u,a,header=img.get_header())\n",
    "nb.save(out_img,'202.nii.gz')"
   ]
  },
  {
   "cell_type": "markdown",
   "metadata": {
    "collapsed": false
   },
   "source": [
    "Try for some parallel action?"
   ]
  },
  {
   "cell_type": "markdown",
   "metadata": {},
   "source": [
    "def calc_vox_vectors(d,mask,x,y,z):\n",
    "    #calc the partial corr between each pair in the neighbourhood, controlling for the diagonal other\n",
    "    res=np.zeros((1,6))\n",
    "    if not(mask[x,y,z]==0):\n",
    "        corrmat=np.hstack((np.ndarray.flatten(d[x-1,y,z]).reshape(1,-1).T,\n",
    "                           np.ndarray.flatten(d[x,y,z]).reshape(1,-1).T,\n",
    "                           np.ndarray.flatten(d[x+1,y,z]).reshape(1,-1).T))\n",
    "        res_corr=partial_corr(corrmat)\n",
    "        res[0]=res_corr[0,1] #pcorr btw the first two\n",
    "        res[1]=res_corr[1,2] #pcorr btw the last two\n",
    "\n",
    "        corrmat=np.hstack((np.ndarray.flatten(d[x,y-1,z]).reshape(1,-1).T,\n",
    "                           np.ndarray.flatten(d[x,y,z]).reshape(1,-1).T,\n",
    "                           np.ndarray.flatten(d[x,y+1,z]).reshape(1,-1).T))\n",
    "        res_corr=partial_corr(corrmat)\n",
    "        res[2]=res_corr[0,1] #pcorr btw the first two\n",
    "        res[3]=res_corr[1,2] #pcorr btw the last two    \n",
    "\n",
    "        corrmat=np.hstack((np.ndarray.flatten(d[x,y,z-1]).reshape(1,-1).T,\n",
    "                           np.ndarray.flatten(d[x,y,z]).reshape(1,-1).T,\n",
    "                           np.ndarray.flatten(d[x,y,z+1]).reshape(1,-1).T))\n",
    "        res_corr=partial_corr(corrmat)\n",
    "        res[4]=res_corr[0,1] #pcorr btw the first two\n",
    "        res[5]=res_corr[1,2] #pcorr btw the last two\n",
    "    return res"
   ]
  },
  {
   "cell_type": "markdown",
   "metadata": {
    "collapsed": false
   },
   "source": [
    "#!/usr/bin/env python2\n",
    "import itertools\n",
    "from multiprocessing import Pool, freeze_support\n",
    "img=nb.load('BP4T_rest1_1_denoised_z20_49.nii.gz')\n",
    "d=img.get_data()"
   ]
  },
  {
   "cell_type": "markdown",
   "metadata": {},
   "source": [
    "\n",
    "\n",
    "pool = Pool()\n",
    "xargs=range(0+1,xdim-1)\n",
    "yargs=range(0+1,ydim-1)\n",
    "zargs=range(0+1,zdim-1)\n",
    "a= pool.map(calc_vox_vectors, itertools.izip(d,mask,xargs,yargs,zargs))\n"
   ]
  },
  {
   "cell_type": "code",
   "execution_count": 20,
   "metadata": {
    "collapsed": false
   },
   "outputs": [],
   "source": []
  },
  {
   "cell_type": "code",
   "execution_count": 28,
   "metadata": {
    "collapsed": false
   },
   "outputs": [
    {
     "data": {
      "text/plain": [
       "[]"
      ]
     },
     "execution_count": 28,
     "metadata": {},
     "output_type": "execute_result"
    }
   ],
   "source": [
    "a\n"
   ]
  }
 ],
 "metadata": {
  "kernelspec": {
   "display_name": "Python 2",
   "language": "python",
   "name": "python2"
  },
  "language_info": {
   "codemirror_mode": {
    "name": "ipython",
    "version": 2
   },
   "file_extension": ".py",
   "mimetype": "text/x-python",
   "name": "python",
   "nbconvert_exporter": "python",
   "pygments_lexer": "ipython2",
   "version": "2.7.10"
  }
 },
 "nbformat": 4,
 "nbformat_minor": 0
}
